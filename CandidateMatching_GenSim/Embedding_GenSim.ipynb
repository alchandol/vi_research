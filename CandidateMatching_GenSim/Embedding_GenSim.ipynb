{
 "cells": [
  {
   "cell_type": "code",
   "execution_count": 1,
   "id": "191f5f0f",
   "metadata": {},
   "outputs": [],
   "source": [
    "import gensim\n",
    "import pandas as pd"
   ]
  },
  {
   "cell_type": "code",
   "execution_count": 2,
   "id": "e60ca717",
   "metadata": {},
   "outputs": [],
   "source": [
    "df = pd.read_csv('data/word2vec_train.csv')"
   ]
  },
  {
   "cell_type": "code",
   "execution_count": 3,
   "id": "fde68c98",
   "metadata": {},
   "outputs": [
    {
     "data": {
      "text/html": [
       "<div>\n",
       "<style scoped>\n",
       "    .dataframe tbody tr th:only-of-type {\n",
       "        vertical-align: middle;\n",
       "    }\n",
       "\n",
       "    .dataframe tbody tr th {\n",
       "        vertical-align: top;\n",
       "    }\n",
       "\n",
       "    .dataframe thead th {\n",
       "        text-align: right;\n",
       "    }\n",
       "</style>\n",
       "<table border=\"1\" class=\"dataframe\">\n",
       "  <thead>\n",
       "    <tr style=\"text-align: right;\">\n",
       "      <th></th>\n",
       "      <th>pid</th>\n",
       "      <th>practice_area</th>\n",
       "      <th>expertise</th>\n",
       "      <th>language</th>\n",
       "      <th>location</th>\n",
       "    </tr>\n",
       "  </thead>\n",
       "  <tbody>\n",
       "    <tr>\n",
       "      <th>0</th>\n",
       "      <td>0</td>\n",
       "      <td>Immigration</td>\n",
       "      <td>border policy, visa, permanent residency, immi...</td>\n",
       "      <td>Chinese</td>\n",
       "      <td>Dallas</td>\n",
       "    </tr>\n",
       "    <tr>\n",
       "      <th>1</th>\n",
       "      <td>1</td>\n",
       "      <td>Corporate</td>\n",
       "      <td>M&amp;A, Mergers, employment, contract, due dilige...</td>\n",
       "      <td>Spanish</td>\n",
       "      <td>Los Angeles</td>\n",
       "    </tr>\n",
       "    <tr>\n",
       "      <th>2</th>\n",
       "      <td>2</td>\n",
       "      <td>Employment</td>\n",
       "      <td>Contracts, termination, payroll, NDA</td>\n",
       "      <td>Chinese</td>\n",
       "      <td>Washington</td>\n",
       "    </tr>\n",
       "    <tr>\n",
       "      <th>3</th>\n",
       "      <td>3</td>\n",
       "      <td>Immigration</td>\n",
       "      <td>border, work visa, citizenship</td>\n",
       "      <td>Italian</td>\n",
       "      <td>Seattle</td>\n",
       "    </tr>\n",
       "    <tr>\n",
       "      <th>4</th>\n",
       "      <td>4</td>\n",
       "      <td>Family Law</td>\n",
       "      <td>Divorce, child custody, alimony</td>\n",
       "      <td>English</td>\n",
       "      <td>New York</td>\n",
       "    </tr>\n",
       "  </tbody>\n",
       "</table>\n",
       "</div>"
      ],
      "text/plain": [
       "   pid practice_area                                          expertise  \\\n",
       "0    0   Immigration  border policy, visa, permanent residency, immi...   \n",
       "1    1     Corporate  M&A, Mergers, employment, contract, due dilige...   \n",
       "2    2    Employment               Contracts, termination, payroll, NDA   \n",
       "3    3   Immigration                     border, work visa, citizenship   \n",
       "4    4    Family Law                    Divorce, child custody, alimony   \n",
       "\n",
       "  language     location  \n",
       "0  Chinese       Dallas  \n",
       "1  Spanish  Los Angeles  \n",
       "2  Chinese   Washington  \n",
       "3  Italian      Seattle  \n",
       "4  English     New York  "
      ]
     },
     "execution_count": 3,
     "metadata": {},
     "output_type": "execute_result"
    }
   ],
   "source": [
    "df.head()"
   ]
  },
  {
   "cell_type": "code",
   "execution_count": 4,
   "id": "058024c1",
   "metadata": {},
   "outputs": [
    {
     "name": "stdout",
     "output_type": "stream",
     "text": [
      "Unique Languages:  ['Chinese' 'Spanish' 'Italian' 'English' 'French' 'Japanese' 'Korean'\n",
      " 'Arabic' 'Hindi']\n",
      "Unique Locations:  ['Dallas' 'Los Angeles' 'Washington' 'Seattle' 'New York' 'Miami'\n",
      " 'Chicago' 'San Francisco']\n",
      "current datatype for Expertise column:  <class 'str'>\n",
      "\n",
      "\n",
      "<class 'pandas.core.frame.DataFrame'>\n",
      "RangeIndex: 100 entries, 0 to 99\n",
      "Data columns (total 5 columns):\n",
      " #   Column         Non-Null Count  Dtype \n",
      "---  ------         --------------  ----- \n",
      " 0   pid            100 non-null    int64 \n",
      " 1   practice_area  100 non-null    object\n",
      " 2   expertise      100 non-null    object\n",
      " 3   language       100 non-null    object\n",
      " 4   location       100 non-null    object\n",
      "dtypes: int64(1), object(4)\n",
      "memory usage: 4.0+ KB\n",
      "None\n"
     ]
    }
   ],
   "source": [
    "#analysis\n",
    "\n",
    "print('Unique Languages: ',df.language.unique())\n",
    "print('Unique Locations: ',df.location.unique())\n",
    "\n",
    "print('current datatype for Expertise column: ', type(df.expertise[0]))\n",
    "print('\\n')\n",
    "print(df.info())"
   ]
  },
  {
   "cell_type": "code",
   "execution_count": 5,
   "id": "3792b6b5",
   "metadata": {},
   "outputs": [],
   "source": [
    "#clean up Expertise column: make lower case -> connect multi-word keywords with '_' -> conver text to list of keywords\n",
    "\n",
    "def cleanup(text):\n",
    "    \n",
    "    return text.lower().replace(' ','_').split(',_')\n",
    "\n"
   ]
  },
  {
   "cell_type": "code",
   "execution_count": 6,
   "id": "528ac420",
   "metadata": {},
   "outputs": [
    {
     "name": "stdout",
     "output_type": "stream",
     "text": [
      "['border_policy', 'visa', 'permanent_residency', 'immigration']\n"
     ]
    }
   ],
   "source": [
    "#test\n",
    "x = 'Border Policy, visa, permanent residency, immigration'\n",
    "print(cleanup(x))"
   ]
  },
  {
   "cell_type": "code",
   "execution_count": 7,
   "id": "8224fe59",
   "metadata": {},
   "outputs": [],
   "source": [
    "#apply to df\n",
    "df.expertise = df.expertise.apply(cleanup)"
   ]
  },
  {
   "cell_type": "code",
   "execution_count": 8,
   "id": "28274792",
   "metadata": {},
   "outputs": [
    {
     "data": {
      "text/plain": [
       "0     [border_policy, visa, permanent_residency, imm...\n",
       "1     [m&a, mergers, employment, contract, due_dilig...\n",
       "2                [contracts, termination, payroll, nda]\n",
       "3                      [border, work_visa, citizenship]\n",
       "4                     [divorce, child_custody, alimony]\n",
       "                            ...                        \n",
       "95    [real_estate_transactions, property_developmen...\n",
       "96    [criminal_investigations, criminal_defense, cr...\n",
       "97    [family_court_proceedings, child_custody_dispu...\n",
       "98    [healthcare_regulations, medical_ethics, healt...\n",
       "99    [tax_disputes, tax_planning, international_tax...\n",
       "Name: expertise, Length: 100, dtype: object"
      ]
     },
     "execution_count": 8,
     "metadata": {},
     "output_type": "execute_result"
    }
   ],
   "source": [
    "df.expertise"
   ]
  },
  {
   "cell_type": "code",
   "execution_count": null,
   "id": "cb6b821d",
   "metadata": {},
   "outputs": [],
   "source": []
  },
  {
   "cell_type": "code",
   "execution_count": 11,
   "id": "2a9edbcd",
   "metadata": {},
   "outputs": [
    {
     "data": {
      "text/plain": [
       "['border', 'policy', 'visa', 'permanent', 'residency', 'immigration']"
      ]
     },
     "execution_count": 11,
     "metadata": {},
     "output_type": "execute_result"
    }
   ],
   "source": [
    "#not needed\n",
    "#gensim.utils.simple_preprocess('border policy, visa, permanent residency, immigration')"
   ]
  },
  {
   "cell_type": "code",
   "execution_count": 9,
   "id": "c966d759",
   "metadata": {},
   "outputs": [],
   "source": [
    "model = gensim.models.Word2Vec(\n",
    "    window = 3,\n",
    "    min_count = 1,\n",
    "    workers = 4\n",
    ")"
   ]
  },
  {
   "cell_type": "markdown",
   "id": "2fb0305e",
   "metadata": {},
   "source": []
  },
  {
   "cell_type": "code",
   "execution_count": 10,
   "id": "d4bed2fd",
   "metadata": {},
   "outputs": [],
   "source": [
    "model.build_vocab(df.expertise, progress_per=1)"
   ]
  },
  {
   "cell_type": "code",
   "execution_count": 11,
   "id": "bef2fec1",
   "metadata": {},
   "outputs": [
    {
     "data": {
      "text/plain": [
       "5"
      ]
     },
     "execution_count": 11,
     "metadata": {},
     "output_type": "execute_result"
    }
   ],
   "source": [
    "model.epochs"
   ]
  },
  {
   "cell_type": "code",
   "execution_count": 12,
   "id": "442c6fd9",
   "metadata": {},
   "outputs": [
    {
     "data": {
      "text/plain": [
       "100"
      ]
     },
     "execution_count": 12,
     "metadata": {},
     "output_type": "execute_result"
    }
   ],
   "source": [
    "model.corpus_count"
   ]
  },
  {
   "cell_type": "code",
   "execution_count": 13,
   "id": "6cdfa9ac",
   "metadata": {},
   "outputs": [
    {
     "data": {
      "text/plain": [
       "(1058, 1545)"
      ]
     },
     "execution_count": 13,
     "metadata": {},
     "output_type": "execute_result"
    }
   ],
   "source": [
    "model.train(df.expertise, total_examples=model.corpus_count, epochs=model.epochs)"
   ]
  },
  {
   "cell_type": "code",
   "execution_count": 14,
   "id": "b7188b00",
   "metadata": {},
   "outputs": [
    {
     "data": {
      "text/plain": [
       "[('m&a', 0.26826635003089905),\n",
       " ('severance_agreements', 0.25243422389030457),\n",
       " ('real_estate_financing', 0.24010947346687317),\n",
       " ('real_estate_sales', 0.19859245419502258),\n",
       " ('immigration_waivers', 0.1934790313243866),\n",
       " ('visa_applications', 0.18896745145320892),\n",
       " ('mergers', 0.18883106112480164),\n",
       " ('labor_union_negotiations', 0.18606069684028625),\n",
       " ('embezzlement', 0.18393173813819885),\n",
       " ('ip_management', 0.17269083857536316)]"
      ]
     },
     "execution_count": 14,
     "metadata": {},
     "output_type": "execute_result"
    }
   ],
   "source": [
    "model.wv.most_similar('immigration')"
   ]
  },
  {
   "cell_type": "code",
   "execution_count": 143,
   "id": "2c1e2e1f",
   "metadata": {},
   "outputs": [
    {
     "data": {
      "text/plain": [
       "<gensim.models.keyedvectors.KeyedVectors at 0x168d8a3f850>"
      ]
     },
     "execution_count": 143,
     "metadata": {},
     "output_type": "execute_result"
    }
   ],
   "source": [
    "model.wv"
   ]
  },
  {
   "cell_type": "code",
   "execution_count": 144,
   "id": "ab700009",
   "metadata": {},
   "outputs": [
    {
     "name": "stdout",
     "output_type": "stream",
     "text": [
      "Vocabulary size: 216\n"
     ]
    }
   ],
   "source": [
    "word_vectors = model.wv\n",
    "vocabulary_size = len(word_vectors.key_to_index)\n",
    "print(\"Vocabulary size:\", vocabulary_size)"
   ]
  },
  {
   "cell_type": "code",
   "execution_count": 145,
   "id": "142647cc",
   "metadata": {},
   "outputs": [
    {
     "data": {
      "text/plain": [
       "{'criminal_appeals': 0,\n",
       " 'corporate_governance': 1,\n",
       " 'healthcare_compliance': 2,\n",
       " 'tax_planning': 3,\n",
       " 'ip_enforcement': 4,\n",
       " 'criminal_defense': 5,\n",
       " 'medical_ethics': 6,\n",
       " 'workplace_discrimination': 7,\n",
       " 'corporate_investigations': 8,\n",
       " 'criminal_sentencing': 9,\n",
       " 'ip_strategy': 10,\n",
       " 'ip_management': 11,\n",
       " 'refugee_law': 12,\n",
       " 'asylum_petitions': 13,\n",
       " 'immigration_appeals': 14,\n",
       " 'corporate_litigation': 15,\n",
       " 'child_custody_disputes': 16,\n",
       " 'real_estate_transactions': 17,\n",
       " 'adoption_proceedings': 18,\n",
       " 'labor_negotiations': 19,\n",
       " 'real_estate_disputes': 20,\n",
       " 'property_development': 21,\n",
       " 'corporate_compliance': 22,\n",
       " 'guardianship': 23,\n",
       " 'employment_contracts': 24,\n",
       " 'international_taxation': 25,\n",
       " 'compliance': 26,\n",
       " 'medical_malpractice': 27,\n",
       " 'tax_evasion': 28,\n",
       " 'corporate_finance': 29,\n",
       " 'family_mediation': 30,\n",
       " 'child_protection': 31,\n",
       " 'real_estate_arbitration': 32,\n",
       " 'tax_litigation': 33,\n",
       " 'deportation_defense': 34,\n",
       " 'healthcare_regulation': 35,\n",
       " 'healthcare_licensing': 36,\n",
       " 'ip_portfolio_management': 37,\n",
       " 'probation_violation': 38,\n",
       " 'tax_disputes': 39,\n",
       " 'child_support': 40,\n",
       " 'workplace_investigations': 41,\n",
       " 'healthcare_contracts': 42,\n",
       " 'corporate_restructuring': 43,\n",
       " 'ip_due_diligence': 44,\n",
       " 'trademark': 45,\n",
       " 'international_tax_agreements': 46,\n",
       " 'healthcare_policy': 47,\n",
       " 'healthcare_regulations': 48,\n",
       " 'family_court_proceedings': 49,\n",
       " 'ip_protection': 50,\n",
       " 'criminal_investigations': 51,\n",
       " 'immigration_law': 52,\n",
       " 'immigration_petitions': 53,\n",
       " 'family_court_appeals': 54,\n",
       " 'employment_law': 55,\n",
       " 'patent': 56,\n",
       " 'mergers': 57,\n",
       " 'employment': 58,\n",
       " 'licensing': 59,\n",
       " 'leasing_agreements': 60,\n",
       " 'evictions': 61,\n",
       " 'contract': 62,\n",
       " 'landlord-tenant_disputes': 63,\n",
       " 'telemedicine': 64,\n",
       " 'fda_compliance': 65,\n",
       " 'due_diligence': 66,\n",
       " 'wealth_management': 67,\n",
       " 'takeover': 68,\n",
       " 'contracts': 69,\n",
       " 'technology_transfer': 70,\n",
       " 'permanent_residency': 71,\n",
       " 'm&a': 72,\n",
       " 'severance_negotiation': 73,\n",
       " 'commercial_leases': 74,\n",
       " 'private_equity': 75,\n",
       " 'venture_capital': 76,\n",
       " 'hipaa_compliance': 77,\n",
       " 'medical_billing': 78,\n",
       " 'labor_disputes': 79,\n",
       " 'whistleblower_claims': 80,\n",
       " 'immigration': 81,\n",
       " 'prenuptial_agreements': 82,\n",
       " 'domestic_violence': 83,\n",
       " 'spousal_support': 84,\n",
       " 'appeals': 85,\n",
       " 'visa': 86,\n",
       " 'estate_planning': 87,\n",
       " 'termination': 88,\n",
       " 'securities': 89,\n",
       " 'payroll': 90,\n",
       " 'construction': 91,\n",
       " 'property_management': 92,\n",
       " 'leasing': 93,\n",
       " 'acquisitions': 94,\n",
       " 'surrogacy': 95,\n",
       " 'adoption': 96,\n",
       " 'transactions': 97,\n",
       " 'trade_secret': 98,\n",
       " 'audit_defense': 99,\n",
       " 'assault': 100,\n",
       " 'theft': 101,\n",
       " 'regulations': 102,\n",
       " 'insurance': 103,\n",
       " 'homicide': 104,\n",
       " 'ip_litigation': 105,\n",
       " 'dui': 106,\n",
       " 'alimony': 107,\n",
       " 'zoning': 108,\n",
       " 'copyright': 109,\n",
       " 'child_custody': 110,\n",
       " 'nda': 111,\n",
       " 'refugee_status': 112,\n",
       " 'border': 113,\n",
       " 'deportation': 114,\n",
       " 'work_visa': 115,\n",
       " 'citizenship': 116,\n",
       " 'asylum': 117,\n",
       " 'divorce': 118,\n",
       " 'workplace_safety': 119,\n",
       " 'harassment': 120,\n",
       " 'discrimination': 121,\n",
       " 'embezzlement': 122,\n",
       " 'fraud': 123,\n",
       " 'white-collar_crime': 124,\n",
       " 'property_disputes': 125,\n",
       " 'real_estate_finance': 126,\n",
       " 'same-sex_marriage_issues': 127,\n",
       " 'transfer_pricing': 128,\n",
       " 'international_tax_planning': 129,\n",
       " 'corporate_risk_management': 130,\n",
       " 'immigration_amnesty': 131,\n",
       " 'deportation_proceedings': 132,\n",
       " 'workplace_harassment': 133,\n",
       " 'labor_union_negotiations': 134,\n",
       " 'employment_discrimination': 135,\n",
       " 'ip_licensing_agreements': 136,\n",
       " 'corporate_tax_planning': 137,\n",
       " 'international_tax_disputes': 138,\n",
       " 'tax_treaties': 139,\n",
       " 'healthcare_ethics': 140,\n",
       " 'medicare_regulations': 141,\n",
       " 'family_arbitration': 142,\n",
       " 'child_abduction': 143,\n",
       " 'domestic_partnerships': 144,\n",
       " 'criminal_negligence': 145,\n",
       " 'criminal_defense_appeals': 146,\n",
       " 'criminal_justice': 147,\n",
       " 'real_estate_sales': 148,\n",
       " 'corporate_strategy': 149,\n",
       " 'real_estate_brokerage': 150,\n",
       " 'real_estate_leasing': 151,\n",
       " 'corporate_contracts': 152,\n",
       " 'international_tax_law': 153,\n",
       " 'divorce_settlements': 154,\n",
       " 'real_estate_titles': 155,\n",
       " 'real_estate_contracts': 156,\n",
       " 'ip_prosecution': 157,\n",
       " 'criminal_investigation': 158,\n",
       " 'real_estate_financing': 159,\n",
       " 'real_estate_development': 160,\n",
       " 'mergers_and_acquisitions': 161,\n",
       " 'criminal_trial_defense': 162,\n",
       " 'visa_applications': 163,\n",
       " 'employment_litigation': 164,\n",
       " 'labor_law': 165,\n",
       " 'tax-exempt_status': 166,\n",
       " 'property_tax_appeals': 167,\n",
       " 'income_tax': 168,\n",
       " 'healthcare_fraud': 169,\n",
       " 'family_dispute_resolution': 170,\n",
       " 'real_estate_planning': 171,\n",
       " 'property_titles': 172,\n",
       " 'asylum_law': 173,\n",
       " 'shareholder_agreements': 174,\n",
       " 'telehealth_regulations': 175,\n",
       " 'title_examination': 176,\n",
       " 'real_estate_investment_trusts': 177,\n",
       " 'eminent_domain': 178,\n",
       " 'paternity_disputes': 179,\n",
       " 'juvenile_offenses': 180,\n",
       " 'asset_forfeiture': 181,\n",
       " 'business_formation': 182,\n",
       " 'commercial_contracts': 183,\n",
       " 'property_tax': 184,\n",
       " 'asylum_appeals': 185,\n",
       " 'naturalization': 186,\n",
       " 'green_card': 187,\n",
       " 'non-compete_agreements': 188,\n",
       " 'employee_benefits': 189,\n",
       " 'ip_licensing': 190,\n",
       " 'copyright_infringement': 191,\n",
       " 'tax-exempt_organizations': 192,\n",
       " 'sales_tax': 193,\n",
       " 'international_tax_compliance': 194,\n",
       " 'immigration_policy': 195,\n",
       " 'criminal_fraud': 196,\n",
       " 'severance_packages': 197,\n",
       " 'workplace_safety_regulations': 198,\n",
       " 'ip_mediation': 199,\n",
       " 'ip_arbitration': 200,\n",
       " 'ip_dispute_resolution': 201,\n",
       " 'tax_shelters': 202,\n",
       " 'tax_fraud': 203,\n",
       " 'healthcare_privacy_laws': 204,\n",
       " 'capital_offenses': 205,\n",
       " 'design_patents': 206,\n",
       " 'real_estate_tax_planning': 207,\n",
       " 'foreclosures': 208,\n",
       " 'cross-border_transactions': 209,\n",
       " 'immigration_waivers': 210,\n",
       " 'labor_contracts': 211,\n",
       " 'severance_agreements': 212,\n",
       " 'ip_valuation': 213,\n",
       " 'ip_audits': 214,\n",
       " 'border_policy': 215}"
      ]
     },
     "execution_count": 145,
     "metadata": {},
     "output_type": "execute_result"
    }
   ],
   "source": [
    "word_vectors.key_to_index"
   ]
  },
  {
   "cell_type": "markdown",
   "id": "133b1539",
   "metadata": {},
   "source": [
    "### Attemp 2\n"
   ]
  },
  {
   "cell_type": "code",
   "execution_count": 15,
   "id": "dfdd72a8",
   "metadata": {},
   "outputs": [],
   "source": [
    "#prepend practice area before expertise\n",
    "\n",
    "def combine(prac,exper):\n",
    "     \n",
    "    out=[]\n",
    "    for i in exper:\n",
    "        out.append(prac+'_'+i)\n",
    "        \n",
    "    return out\n",
    "\n",
    "\n",
    "#build train data\n",
    "td = []\n",
    "\n",
    "for index, row in df.iterrows():\n",
    "    #print(row['practice_area'], row['expertise'])\n",
    "    td.append(combine(row['practice_area'], row['expertise']))"
   ]
  },
  {
   "cell_type": "code",
   "execution_count": 24,
   "id": "3acf26f9",
   "metadata": {},
   "outputs": [
    {
     "name": "stdout",
     "output_type": "stream",
     "text": [
      "TEST:  ['Immigration_border_policy', 'Immigration_visa', 'Immigration_permanent_residency', 'Immigration_immigration']\n"
     ]
    }
   ],
   "source": [
    "print('TEST: ',combine(df.practice_area[0],df.expertise[0]))"
   ]
  },
  {
   "cell_type": "code",
   "execution_count": 26,
   "id": "2e2fc189",
   "metadata": {},
   "outputs": [
    {
     "data": {
      "text/plain": [
       "['Immigration_border_policy',\n",
       " 'Immigration_visa',\n",
       " 'Immigration_permanent_residency',\n",
       " 'Immigration_immigration']"
      ]
     },
     "execution_count": 26,
     "metadata": {},
     "output_type": "execute_result"
    }
   ],
   "source": [
    "td[0]"
   ]
  },
  {
   "cell_type": "code",
   "execution_count": 27,
   "id": "f87fea69",
   "metadata": {},
   "outputs": [],
   "source": [
    "model2 = gensim.models.Word2Vec(\n",
    "    window = 3,\n",
    "    min_count = 1,\n",
    "    workers = 4\n",
    ")\n",
    "\n",
    "model2.build_vocab(td, progress_per=1)"
   ]
  },
  {
   "cell_type": "code",
   "execution_count": 28,
   "id": "be0a707e",
   "metadata": {},
   "outputs": [
    {
     "data": {
      "text/plain": [
       "5"
      ]
     },
     "execution_count": 28,
     "metadata": {},
     "output_type": "execute_result"
    }
   ],
   "source": [
    "model2.epochs"
   ]
  },
  {
   "cell_type": "code",
   "execution_count": 29,
   "id": "c4a2d918",
   "metadata": {},
   "outputs": [
    {
     "data": {
      "text/plain": [
       "100"
      ]
     },
     "execution_count": 29,
     "metadata": {},
     "output_type": "execute_result"
    }
   ],
   "source": [
    "model2.corpus_count"
   ]
  },
  {
   "cell_type": "code",
   "execution_count": 30,
   "id": "e4a8b742",
   "metadata": {},
   "outputs": [
    {
     "data": {
      "text/plain": [
       "(1059, 1545)"
      ]
     },
     "execution_count": 30,
     "metadata": {},
     "output_type": "execute_result"
    }
   ],
   "source": [
    "model2.train(td, total_examples=model.corpus_count, epochs=model.epochs)"
   ]
  },
  {
   "cell_type": "code",
   "execution_count": 31,
   "id": "df3e4c44",
   "metadata": {},
   "outputs": [
    {
     "ename": "KeyError",
     "evalue": "\"Key 'immigration' not present in vocabulary\"",
     "output_type": "error",
     "traceback": [
      "\u001b[1;31m---------------------------------------------------------------------------\u001b[0m",
      "\u001b[1;31mKeyError\u001b[0m                                  Traceback (most recent call last)",
      "Cell \u001b[1;32mIn[31], line 1\u001b[0m\n\u001b[1;32m----> 1\u001b[0m \u001b[43mmodel2\u001b[49m\u001b[38;5;241;43m.\u001b[39;49m\u001b[43mwv\u001b[49m\u001b[38;5;241;43m.\u001b[39;49m\u001b[43mmost_similar\u001b[49m\u001b[43m(\u001b[49m\u001b[38;5;124;43m'\u001b[39;49m\u001b[38;5;124;43mimmigration\u001b[39;49m\u001b[38;5;124;43m'\u001b[39;49m\u001b[43m)\u001b[49m\n",
      "File \u001b[1;32m~\\AppData\\Local\\anaconda3\\Lib\\site-packages\\gensim\\models\\keyedvectors.py:841\u001b[0m, in \u001b[0;36mKeyedVectors.most_similar\u001b[1;34m(self, positive, negative, topn, clip_start, clip_end, restrict_vocab, indexer)\u001b[0m\n\u001b[0;32m    838\u001b[0m         weight[idx] \u001b[38;5;241m=\u001b[39m item[\u001b[38;5;241m1\u001b[39m]\n\u001b[0;32m    840\u001b[0m \u001b[38;5;66;03m# compute the weighted average of all keys\u001b[39;00m\n\u001b[1;32m--> 841\u001b[0m mean \u001b[38;5;241m=\u001b[39m \u001b[38;5;28;43mself\u001b[39;49m\u001b[38;5;241;43m.\u001b[39;49m\u001b[43mget_mean_vector\u001b[49m\u001b[43m(\u001b[49m\u001b[43mkeys\u001b[49m\u001b[43m,\u001b[49m\u001b[43m \u001b[49m\u001b[43mweight\u001b[49m\u001b[43m,\u001b[49m\u001b[43m \u001b[49m\u001b[43mpre_normalize\u001b[49m\u001b[38;5;241;43m=\u001b[39;49m\u001b[38;5;28;43;01mTrue\u001b[39;49;00m\u001b[43m,\u001b[49m\u001b[43m \u001b[49m\u001b[43mpost_normalize\u001b[49m\u001b[38;5;241;43m=\u001b[39;49m\u001b[38;5;28;43;01mTrue\u001b[39;49;00m\u001b[43m,\u001b[49m\u001b[43m \u001b[49m\u001b[43mignore_missing\u001b[49m\u001b[38;5;241;43m=\u001b[39;49m\u001b[38;5;28;43;01mFalse\u001b[39;49;00m\u001b[43m)\u001b[49m\n\u001b[0;32m    842\u001b[0m all_keys \u001b[38;5;241m=\u001b[39m [\n\u001b[0;32m    843\u001b[0m     \u001b[38;5;28mself\u001b[39m\u001b[38;5;241m.\u001b[39mget_index(key) \u001b[38;5;28;01mfor\u001b[39;00m key \u001b[38;5;129;01min\u001b[39;00m keys \u001b[38;5;28;01mif\u001b[39;00m \u001b[38;5;28misinstance\u001b[39m(key, _KEY_TYPES) \u001b[38;5;129;01mand\u001b[39;00m \u001b[38;5;28mself\u001b[39m\u001b[38;5;241m.\u001b[39mhas_index_for(key)\n\u001b[0;32m    844\u001b[0m ]\n\u001b[0;32m    846\u001b[0m \u001b[38;5;28;01mif\u001b[39;00m indexer \u001b[38;5;129;01mis\u001b[39;00m \u001b[38;5;129;01mnot\u001b[39;00m \u001b[38;5;28;01mNone\u001b[39;00m \u001b[38;5;129;01mand\u001b[39;00m \u001b[38;5;28misinstance\u001b[39m(topn, \u001b[38;5;28mint\u001b[39m):\n",
      "File \u001b[1;32m~\\AppData\\Local\\anaconda3\\Lib\\site-packages\\gensim\\models\\keyedvectors.py:518\u001b[0m, in \u001b[0;36mKeyedVectors.get_mean_vector\u001b[1;34m(self, keys, weights, pre_normalize, post_normalize, ignore_missing)\u001b[0m\n\u001b[0;32m    516\u001b[0m         total_weight \u001b[38;5;241m+\u001b[39m\u001b[38;5;241m=\u001b[39m \u001b[38;5;28mabs\u001b[39m(weights[idx])\n\u001b[0;32m    517\u001b[0m     \u001b[38;5;28;01melif\u001b[39;00m \u001b[38;5;129;01mnot\u001b[39;00m ignore_missing:\n\u001b[1;32m--> 518\u001b[0m         \u001b[38;5;28;01mraise\u001b[39;00m \u001b[38;5;167;01mKeyError\u001b[39;00m(\u001b[38;5;124mf\u001b[39m\u001b[38;5;124m\"\u001b[39m\u001b[38;5;124mKey \u001b[39m\u001b[38;5;124m'\u001b[39m\u001b[38;5;132;01m{\u001b[39;00mkey\u001b[38;5;132;01m}\u001b[39;00m\u001b[38;5;124m'\u001b[39m\u001b[38;5;124m not present in vocabulary\u001b[39m\u001b[38;5;124m\"\u001b[39m)\n\u001b[0;32m    520\u001b[0m \u001b[38;5;28;01mif\u001b[39;00m total_weight \u001b[38;5;241m>\u001b[39m \u001b[38;5;241m0\u001b[39m:\n\u001b[0;32m    521\u001b[0m     mean \u001b[38;5;241m=\u001b[39m mean \u001b[38;5;241m/\u001b[39m total_weight\n",
      "\u001b[1;31mKeyError\u001b[0m: \"Key 'immigration' not present in vocabulary\""
     ]
    }
   ],
   "source": [
    "model2.wv.most_similar('immigration')"
   ]
  },
  {
   "cell_type": "code",
   "execution_count": 32,
   "id": "8e50d731",
   "metadata": {},
   "outputs": [
    {
     "name": "stdout",
     "output_type": "stream",
     "text": [
      "Vocabulary size: 217\n"
     ]
    },
    {
     "data": {
      "text/plain": [
       "{'Criminal Law_criminal_appeals': 0,\n",
       " 'Corporate_corporate_governance': 1,\n",
       " 'Healthcare_healthcare_compliance': 2,\n",
       " 'Tax Law_tax_planning': 3,\n",
       " 'Intellectual Property_ip_enforcement': 4,\n",
       " 'Criminal Law_criminal_defense': 5,\n",
       " 'Employment_workplace_discrimination': 6,\n",
       " 'Healthcare_medical_ethics': 7,\n",
       " 'Family Law_adoption_proceedings': 8,\n",
       " 'Intellectual Property_ip_strategy': 9,\n",
       " 'Intellectual Property_ip_management': 10,\n",
       " 'Immigration_asylum_petitions': 11,\n",
       " 'Immigration_refugee_law': 12,\n",
       " 'Corporate_corporate_litigation': 13,\n",
       " 'Criminal Law_criminal_sentencing': 14,\n",
       " 'Immigration_immigration_appeals': 15,\n",
       " 'Employment_labor_negotiations': 16,\n",
       " 'Real Estate_real_estate_transactions': 17,\n",
       " 'Real Estate_real_estate_disputes': 18,\n",
       " 'Real Estate_property_development': 19,\n",
       " 'Corporate_corporate_investigations': 20,\n",
       " 'Family Law_child_custody_disputes': 21,\n",
       " 'Family Law_family_mediation': 22,\n",
       " 'Employment_employment_contracts': 23,\n",
       " 'Tax Law_tax_evasion': 24,\n",
       " 'Family Law_guardianship': 25,\n",
       " 'Tax Law_international_taxation': 26,\n",
       " 'Healthcare_medical_malpractice': 27,\n",
       " 'Tax Law_international_tax_agreements': 28,\n",
       " 'Family Law_child_protection': 29,\n",
       " 'Real Estate_real_estate_arbitration': 30,\n",
       " 'Corporate_corporate_finance': 31,\n",
       " 'Immigration_deportation_defense': 32,\n",
       " 'Tax Law_tax_litigation': 33,\n",
       " 'Healthcare_healthcare_regulation': 34,\n",
       " 'Healthcare_healthcare_licensing': 35,\n",
       " 'Intellectual Property_ip_portfolio_management': 36,\n",
       " 'Tax Law_tax_disputes': 37,\n",
       " 'Criminal Law_probation_violation': 38,\n",
       " 'Family Law_child_support': 39,\n",
       " 'Employment_workplace_investigations': 40,\n",
       " 'Healthcare_healthcare_contracts': 41,\n",
       " 'Intellectual Property_ip_due_diligence': 42,\n",
       " 'Corporate_corporate_restructuring': 43,\n",
       " 'Intellectual Property_trademark': 44,\n",
       " 'Corporate_corporate_compliance': 45,\n",
       " 'Healthcare_healthcare_policy': 46,\n",
       " 'Healthcare_healthcare_regulations': 47,\n",
       " 'Family Law_family_court_proceedings': 48,\n",
       " 'Intellectual Property_ip_protection': 49,\n",
       " 'Criminal Law_criminal_investigations': 50,\n",
       " 'Immigration_immigration_law': 51,\n",
       " 'Employment_employment_law': 52,\n",
       " 'Immigration_immigration_petitions': 53,\n",
       " 'Family Law_family_court_appeals': 54,\n",
       " 'Intellectual Property_patent': 55,\n",
       " 'Corporate_mergers': 56,\n",
       " 'Corporate_employment': 57,\n",
       " 'Real Estate_leasing_agreements': 58,\n",
       " 'Real Estate_evictions': 59,\n",
       " 'Real Estate_landlord-tenant_disputes': 60,\n",
       " 'Tax Law_wealth_management': 61,\n",
       " 'Healthcare_telemedicine': 62,\n",
       " 'Healthcare_fda_compliance': 63,\n",
       " 'Corporate_contract': 64,\n",
       " 'Corporate_due_diligence': 65,\n",
       " 'Corporate_takeover': 66,\n",
       " 'Employment_contracts': 67,\n",
       " 'Employment_termination': 68,\n",
       " 'Intellectual Property_licensing': 69,\n",
       " 'Immigration_permanent_residency': 70,\n",
       " 'Intellectual Property_technology_transfer': 71,\n",
       " 'Corporate_m&a': 72,\n",
       " 'Real Estate_commercial_leases': 73,\n",
       " 'Corporate_private_equity': 74,\n",
       " 'Corporate_venture_capital': 75,\n",
       " 'Healthcare_hipaa_compliance': 76,\n",
       " 'Healthcare_medical_billing': 77,\n",
       " 'Employment_labor_disputes': 78,\n",
       " 'Employment_severance_negotiation': 79,\n",
       " 'Employment_whistleblower_claims': 80,\n",
       " 'Family Law_prenuptial_agreements': 81,\n",
       " 'Family Law_domestic_violence': 82,\n",
       " 'Family Law_spousal_support': 83,\n",
       " 'Criminal Law_appeals': 84,\n",
       " 'Immigration_visa': 85,\n",
       " 'Corporate_securities': 86,\n",
       " 'Immigration_immigration': 87,\n",
       " 'Tax Law_estate_planning': 88,\n",
       " 'Corporate_compliance': 89,\n",
       " 'Employment_payroll': 90,\n",
       " 'Tax Law_audit_defense': 91,\n",
       " 'Real Estate_property_management': 92,\n",
       " 'Real Estate_leasing': 93,\n",
       " 'Real Estate_acquisitions': 94,\n",
       " 'Family Law_surrogacy': 95,\n",
       " 'Family Law_adoption': 96,\n",
       " 'Real Estate_transactions': 97,\n",
       " 'Intellectual Property_trade_secret': 98,\n",
       " 'Criminal Law_assault': 99,\n",
       " 'Criminal Law_dui': 100,\n",
       " 'Healthcare_compliance': 101,\n",
       " 'Healthcare_regulations': 102,\n",
       " 'Healthcare_insurance': 103,\n",
       " 'Criminal Law_theft': 104,\n",
       " 'Intellectual Property_ip_litigation': 105,\n",
       " 'Criminal Law_homicide': 106,\n",
       " 'Intellectual Property_copyright': 107,\n",
       " 'Family Law_alimony': 108,\n",
       " 'Real Estate_construction': 109,\n",
       " 'Real Estate_zoning': 110,\n",
       " 'Family Law_child_custody': 111,\n",
       " 'Employment_nda': 112,\n",
       " 'Immigration_refugee_status': 113,\n",
       " 'Immigration_border': 114,\n",
       " 'Immigration_deportation': 115,\n",
       " 'Immigration_work_visa': 116,\n",
       " 'Immigration_citizenship': 117,\n",
       " 'Immigration_asylum': 118,\n",
       " 'Family Law_divorce': 119,\n",
       " 'Employment_workplace_safety': 120,\n",
       " 'Employment_harassment': 121,\n",
       " 'Employment_discrimination': 122,\n",
       " 'Criminal Law_embezzlement': 123,\n",
       " 'Criminal Law_fraud': 124,\n",
       " 'Criminal Law_white-collar_crime': 125,\n",
       " 'Real Estate_property_disputes': 126,\n",
       " 'Real Estate_real_estate_finance': 127,\n",
       " 'Family Law_same-sex_marriage_issues': 128,\n",
       " 'Tax Law_transfer_pricing': 129,\n",
       " 'Tax Law_international_tax_planning': 130,\n",
       " 'Corporate_corporate_risk_management': 131,\n",
       " 'Immigration_immigration_amnesty': 132,\n",
       " 'Immigration_deportation_proceedings': 133,\n",
       " 'Employment_workplace_harassment': 134,\n",
       " 'Employment_labor_union_negotiations': 135,\n",
       " 'Employment_employment_discrimination': 136,\n",
       " 'Intellectual Property_ip_licensing_agreements': 137,\n",
       " 'Tax Law_corporate_tax_planning': 138,\n",
       " 'Tax Law_international_tax_disputes': 139,\n",
       " 'Tax Law_tax_treaties': 140,\n",
       " 'Healthcare_healthcare_ethics': 141,\n",
       " 'Healthcare_medicare_regulations': 142,\n",
       " 'Family Law_family_arbitration': 143,\n",
       " 'Family Law_child_abduction': 144,\n",
       " 'Family Law_domestic_partnerships': 145,\n",
       " 'Criminal Law_criminal_negligence': 146,\n",
       " 'Criminal Law_criminal_defense_appeals': 147,\n",
       " 'Criminal Law_criminal_justice': 148,\n",
       " 'Real Estate_real_estate_sales': 149,\n",
       " 'Corporate_corporate_strategy': 150,\n",
       " 'Real Estate_real_estate_brokerage': 151,\n",
       " 'Real Estate_real_estate_leasing': 152,\n",
       " 'Corporate_corporate_contracts': 153,\n",
       " 'Tax Law_international_tax_law': 154,\n",
       " 'Family Law_divorce_settlements': 155,\n",
       " 'Real Estate_real_estate_titles': 156,\n",
       " 'Real Estate_real_estate_contracts': 157,\n",
       " 'Intellectual Property_ip_prosecution': 158,\n",
       " 'Criminal Law_criminal_investigation': 159,\n",
       " 'Real Estate_real_estate_financing': 160,\n",
       " 'Real Estate_real_estate_development': 161,\n",
       " 'Corporate_mergers_and_acquisitions': 162,\n",
       " 'Criminal Law_criminal_trial_defense': 163,\n",
       " 'Immigration_visa_applications': 164,\n",
       " 'Employment_employment_litigation': 165,\n",
       " 'Employment_labor_law': 166,\n",
       " 'Tax Law_tax-exempt_status': 167,\n",
       " 'Tax Law_property_tax_appeals': 168,\n",
       " 'Tax Law_income_tax': 169,\n",
       " 'Healthcare_healthcare_fraud': 170,\n",
       " 'Family Law_family_dispute_resolution': 171,\n",
       " 'Real Estate_real_estate_planning': 172,\n",
       " 'Real Estate_property_titles': 173,\n",
       " 'Immigration_asylum_law': 174,\n",
       " 'Corporate_shareholder_agreements': 175,\n",
       " 'Healthcare_telehealth_regulations': 176,\n",
       " 'Real Estate_title_examination': 177,\n",
       " 'Real Estate_real_estate_investment_trusts': 178,\n",
       " 'Real Estate_eminent_domain': 179,\n",
       " 'Family Law_paternity_disputes': 180,\n",
       " 'Criminal Law_juvenile_offenses': 181,\n",
       " 'Criminal Law_asset_forfeiture': 182,\n",
       " 'Corporate_business_formation': 183,\n",
       " 'Corporate_commercial_contracts': 184,\n",
       " 'Tax Law_property_tax': 185,\n",
       " 'Immigration_asylum_appeals': 186,\n",
       " 'Immigration_naturalization': 187,\n",
       " 'Immigration_green_card': 188,\n",
       " 'Employment_non-compete_agreements': 189,\n",
       " 'Employment_employee_benefits': 190,\n",
       " 'Intellectual Property_ip_licensing': 191,\n",
       " 'Intellectual Property_copyright_infringement': 192,\n",
       " 'Tax Law_tax-exempt_organizations': 193,\n",
       " 'Tax Law_sales_tax': 194,\n",
       " 'Tax Law_international_tax_compliance': 195,\n",
       " 'Immigration_immigration_policy': 196,\n",
       " 'Criminal Law_criminal_fraud': 197,\n",
       " 'Employment_severance_packages': 198,\n",
       " 'Employment_workplace_safety_regulations': 199,\n",
       " 'Intellectual Property_ip_mediation': 200,\n",
       " 'Intellectual Property_ip_arbitration': 201,\n",
       " 'Intellectual Property_ip_dispute_resolution': 202,\n",
       " 'Tax Law_tax_shelters': 203,\n",
       " 'Tax Law_tax_fraud': 204,\n",
       " 'Healthcare_healthcare_privacy_laws': 205,\n",
       " 'Criminal Law_capital_offenses': 206,\n",
       " 'Intellectual Property_design_patents': 207,\n",
       " 'Real Estate_real_estate_tax_planning': 208,\n",
       " 'Real Estate_foreclosures': 209,\n",
       " 'Corporate_cross-border_transactions': 210,\n",
       " 'Immigration_immigration_waivers': 211,\n",
       " 'Employment_labor_contracts': 212,\n",
       " 'Employment_severance_agreements': 213,\n",
       " 'Intellectual Property_ip_valuation': 214,\n",
       " 'Intellectual Property_ip_audits': 215,\n",
       " 'Immigration_border_policy': 216}"
      ]
     },
     "execution_count": 32,
     "metadata": {},
     "output_type": "execute_result"
    }
   ],
   "source": [
    "word_vectors2 = model2.wv\n",
    "vocabulary_size = len(word_vectors2.key_to_index)\n",
    "print(\"Vocabulary size:\", vocabulary_size)\n",
    "\n",
    "word_vectors2.key_to_index"
   ]
  },
  {
   "cell_type": "code",
   "execution_count": 36,
   "id": "500f0504",
   "metadata": {},
   "outputs": [
    {
     "name": "stdout",
     "output_type": "stream",
     "text": [
      "[('Criminal Law_juvenile_offenses', 0.26937511563301086), ('Corporate_corporate_finance', 0.22572247684001923), ('Healthcare_healthcare_privacy_laws', 0.21571440994739532), ('Criminal Law_theft', 0.1921129673719406), ('Immigration_refugee_law', 0.18741276860237122), ('Criminal Law_white-collar_crime', 0.18393783271312714), ('Criminal Law_capital_offenses', 0.17898088693618774), ('Real Estate_construction', 0.17114433646202087), ('Corporate_private_equity', 0.17092764377593994), ('Family Law_child_custody_disputes', 0.16574051976203918)]\n",
      "NOT EVEN CLOSE!\n"
     ]
    }
   ],
   "source": [
    "print(model2.wv.most_similar('Immigration_border_policy'))\n",
    "print('NOT EVEN CLOSE!')"
   ]
  },
  {
   "cell_type": "code",
   "execution_count": null,
   "id": "9ee63c0e",
   "metadata": {},
   "outputs": [],
   "source": []
  }
 ],
 "metadata": {
  "kernelspec": {
   "display_name": "Python 3 (ipykernel)",
   "language": "python",
   "name": "python3"
  },
  "language_info": {
   "codemirror_mode": {
    "name": "ipython",
    "version": 3
   },
   "file_extension": ".py",
   "mimetype": "text/x-python",
   "name": "python",
   "nbconvert_exporter": "python",
   "pygments_lexer": "ipython3",
   "version": "3.11.3"
  }
 },
 "nbformat": 4,
 "nbformat_minor": 5
}
