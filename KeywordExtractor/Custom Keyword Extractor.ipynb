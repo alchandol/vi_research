{
 "cells": [
  {
   "cell_type": "code",
   "execution_count": 1,
   "id": "a04808b9",
   "metadata": {},
   "outputs": [],
   "source": [
    "import spacy"
   ]
  },
  {
   "cell_type": "markdown",
   "id": "1407d2a6",
   "metadata": {},
   "source": [
    "https://tecoholic.github.io/ner-annotator/"
   ]
  },
  {
   "cell_type": "code",
   "execution_count": 6,
   "id": "a25c7466",
   "metadata": {},
   "outputs": [],
   "source": [
    "nlp = spacy.load(\"en_core_web_sm\")"
   ]
  },
  {
   "cell_type": "code",
   "execution_count": 9,
   "id": "a55b2b54",
   "metadata": {},
   "outputs": [],
   "source": [
    "text = \"\"\"Seeking legal resources for a land dispute case in Westchester. \n",
    "Specifically interested in real estate and property law expertise, with a focus on zoning regulations and property rights. \n",
    "Require support from a Spanish-speaking legal team and prefer an office located within the Westchester area. \n",
    "Appreciate any relevant case studies, legal documentation, or scholarly articles.\"\"\"\n"
   ]
  },
  {
   "cell_type": "code",
   "execution_count": 2,
   "id": "4aa7daa0",
   "metadata": {},
   "outputs": [],
   "source": [
    "#selections for GPT to use to generate training data\n",
    "practice_areas = ['labour', 'corporate', 'intellectual property', 'criminal', 'family', 'real estate', 'property'\n",
    "                  , 'administrative', 'commercial', 'bankruptcy', 'immigration', 'tax', 'civil', 'health', 'insurance'\n",
    "                  , 'construction', 'dispute resolution', 'environmental', 'lawsuit', 'business', 'competition'\n",
    "                  , 'constitutional', 'education']\n",
    "\n",
    "\n",
    "locations = ['chicago','new york','washington','pittsburgh','los angeles','boston','miami','atlanta','richmond','milwaukee'\n",
    "            , 'seattle','san francisco','palo alto','cleveland','san diego', 'houston','kansas city','nashbille','philadelphia'\n",
    "            , 'detroit','dallas']\n",
    "\n",
    "\n",
    "languages = ['english','french','spanish','german','chinese','japanese','korean','arabic','portuguese','russian','hindi'\n",
    "             , 'malay','thai']"
   ]
  },
  {
   "cell_type": "code",
   "execution_count": 10,
   "id": "ad24a313",
   "metadata": {},
   "outputs": [],
   "source": [
    "doc = nlp(text)"
   ]
  },
  {
   "cell_type": "code",
   "execution_count": 12,
   "id": "66c3367e",
   "metadata": {},
   "outputs": [
    {
     "name": "stdout",
     "output_type": "stream",
     "text": [
      "Seeking legal resources for a land dispute case in Westchester. \n",
      "Specifically interested in real estate and property law expertise, with a focus on zoning regulations and property rights. \n",
      "Require support from a Spanish-speaking legal team and prefer an office located within the Westchester area. \n",
      "Appreciate any relevant case studies, legal documentation, or scholarly articles.\n"
     ]
    }
   ],
   "source": [
    "print (doc)"
   ]
  },
  {
   "cell_type": "code",
   "execution_count": 15,
   "id": "dcb24f88",
   "metadata": {},
   "outputs": [
    {
     "name": "stdout",
     "output_type": "stream",
     "text": [
      "Westchester : ORG\n",
      "Specifically : ORG\n",
      "Spanish : LANGUAGE\n",
      "Westchester : LOC\n",
      "Legal entities found:\n",
      "Westchester\n"
     ]
    }
   ],
   "source": [
    "legal_entities = []\n",
    "for ent in doc.ents:\n",
    "    #print (ent)\n",
    "    print(ent.text, \":\", ent.label_)\n",
    "    if ent.label_ == \"LAW\" or ent.label_ == \"LOC\":\n",
    "        legal_entities.append(ent.text)\n",
    "\n",
    "print(\"Legal entities found:\")\n",
    "for entity in legal_entities:\n",
    "    print(entity)\n",
    "\n"
   ]
  },
  {
   "cell_type": "code",
   "execution_count": 16,
   "id": "bd8e84ac",
   "metadata": {},
   "outputs": [
    {
     "data": {
      "text/plain": [
       "['CARDINAL',\n",
       " 'DATE',\n",
       " 'EVENT',\n",
       " 'FAC',\n",
       " 'GPE',\n",
       " 'LANGUAGE',\n",
       " 'LAW',\n",
       " 'LOC',\n",
       " 'MONEY',\n",
       " 'NORP',\n",
       " 'ORDINAL',\n",
       " 'ORG',\n",
       " 'PERCENT',\n",
       " 'PERSON',\n",
       " 'PRODUCT',\n",
       " 'QUANTITY',\n",
       " 'TIME',\n",
       " 'WORK_OF_ART']"
      ]
     },
     "execution_count": 16,
     "metadata": {},
     "output_type": "execute_result"
    }
   ],
   "source": [
    "#all entities that this model supports\n",
    "nlp.pipe_labels['ner']"
   ]
  },
  {
   "cell_type": "code",
   "execution_count": 38,
   "id": "861c69d4",
   "metadata": {},
   "outputs": [
    {
     "name": "stdout",
     "output_type": "stream",
     "text": [
      "is this working\n"
     ]
    }
   ],
   "source": [
    "#setting custom entity\n",
    "\n",
    "from spacy.training import Example\n",
    "\n",
    "nlp = spacy.blank(\"en\")\n",
    "\n",
    "label = 'PRACTICE_AREA'\n",
    "train_data = [\n",
    "    (\"interested in real estate and property law expertise, with a focus on zoning regulations and property rights\", {\"entities\": [(2, 4, label)]}),\n",
    "    (\"interested in real estate and property law expertise, with a focus on zoning regulations and property rights\", {\"entities\": [(5, 7, label)]})\n",
    "    \n",
    "]\n",
    "\n",
    "# Add the custom entity to the model's pipeline\n",
    "if \"ner\" not in nlp.pipe_names:\n",
    "    ner = nlp.add_pipe(\"ner\")\n",
    "else:\n",
    "    ner = nlp.get_pipe(\"ner\")\n",
    "\n",
    "# Add your custom label to the model's entity recognizer\n",
    "ner.add_label(label)\n",
    "\n",
    "# Begin the training process\n",
    "nlp.begin_training()\n",
    "\n",
    "\n",
    "# Train the model with your annotated data\n",
    "for text, annotations in train_data:\n",
    "    doc = nlp.make_doc(text)\n",
    "    example = Example.from_dict(doc, annotations)\n",
    "    nlp.update([example], losses={})\n",
    "    \n",
    "    \n",
    "    \n",
    "# Save the trained model\n",
    "nlp.to_disk(\"custom_ner_model\")\n",
    "\n",
    "# Load the trained custom NER model\n",
    "nlp = spacy.load(\"custom_ner_model\")  # Replace with the path to your saved model\n",
    "\n",
    "\n",
    "# Sample text for testing\n",
    "test_text = \"We need legal advice for a potential real estate transaction.\"\n",
    "\n",
    "# Apply the NER model to the test text\n",
    "doc = nlp(test_text)\n",
    "\n",
    "# Extract entities from the test text\n",
    "for ent in doc.ents:\n",
    "    print(ent.text, ent.label_)\n",
    "\n",
    "print('is this working')"
   ]
  },
  {
   "cell_type": "code",
   "execution_count": 32,
   "id": "978b726b",
   "metadata": {},
   "outputs": [],
   "source": [
    "test_text = \"We need legal advice for a potential real estate transaction.\""
   ]
  },
  {
   "cell_type": "code",
   "execution_count": 33,
   "id": "4f7291a0",
   "metadata": {},
   "outputs": [],
   "source": [
    "doc = nlp(test_text)"
   ]
  },
  {
   "cell_type": "code",
   "execution_count": 36,
   "id": "c9e41f17",
   "metadata": {},
   "outputs": [],
   "source": [
    "for ent in doc.ents:\n",
    "    print (ent)\n",
    "    print(ent.text, \":\", ent.label_)"
   ]
  },
  {
   "cell_type": "code",
   "execution_count": 35,
   "id": "31c0e2fd",
   "metadata": {},
   "outputs": [
    {
     "name": "stdout",
     "output_type": "stream",
     "text": [
      "We need legal advice for a potential real estate transaction.\n"
     ]
    }
   ],
   "source": [
    "print(doc)"
   ]
  },
  {
   "cell_type": "code",
   "execution_count": null,
   "id": "0703f863",
   "metadata": {},
   "outputs": [],
   "source": []
  },
  {
   "cell_type": "code",
   "execution_count": null,
   "id": "354e7749",
   "metadata": {},
   "outputs": [],
   "source": []
  },
  {
   "cell_type": "markdown",
   "id": "2c8755e1",
   "metadata": {},
   "source": [
    "Building custom NER w Spacy"
   ]
  },
  {
   "cell_type": "code",
   "execution_count": 39,
   "id": "8d22014c",
   "metadata": {},
   "outputs": [
    {
     "name": "stdout",
     "output_type": "stream",
     "text": [
      "\u001b[1m\n",
      "============================== Info about spaCy ==============================\u001b[0m\n",
      "\n",
      "spaCy version    3.5.3                         \n",
      "Location         C:\\Users\\gray.kim\\AppData\\Local\\anaconda3\\Lib\\site-packages\\spacy\n",
      "Platform         Windows-10-10.0.19045-SP0     \n",
      "Python version   3.11.3                        \n",
      "Pipelines        en_core_web_sm (3.5.0)        \n",
      "\n"
     ]
    }
   ],
   "source": [
    "!python -m spacy info\n"
   ]
  },
  {
   "cell_type": "code",
   "execution_count": 2,
   "id": "82243e24",
   "metadata": {},
   "outputs": [],
   "source": [
    "\n",
    "import spacy\n",
    "from spacy.tokens import DocBin\n",
    "from tqdm import tqdm\n",
    "\n",
    "nlp = spacy.blank(\"en\") # load a new spacy model\n",
    "db = DocBin() # create a DocBin object"
   ]
  },
  {
   "cell_type": "code",
   "execution_count": 3,
   "id": "8067ac45",
   "metadata": {},
   "outputs": [],
   "source": [
    "\n",
    "import json\n",
    "f = open('custom_ner_model/sample_data/training_data.json')\n",
    "train_data = json.load(f)"
   ]
  },
  {
   "cell_type": "code",
   "execution_count": 56,
   "id": "0564626b",
   "metadata": {},
   "outputs": [
    {
     "data": {
      "text/plain": [
       "['Our legal team specializing in labour law is currently managing a case in Chicago. We require comprehensive legal resources and expertise in employment contracts and labor disputes. Fluency in Spanish within the legal team is essential for effective communication with our diverse workforce. Please provide any relevant case studies or legal documentation related to labour law.\\r',\n",
       " {'entities': [[31, 41, 'PRACTICE_AREA'],\n",
       "   [74, 82, 'LOCATION'],\n",
       "   [141, 151, 'PRACTICE_AREA'],\n",
       "   [152, 161, 'PRACTICE_AREA'],\n",
       "   [166, 181, 'PRACTICE_AREA'],\n",
       "   [193, 200, 'LANG'],\n",
       "   [367, 377, 'PRACTICE_AREA']]}]"
      ]
     },
     "execution_count": 56,
     "metadata": {},
     "output_type": "execute_result"
    }
   ],
   "source": [
    "train_data['annotations'][0]"
   ]
  },
  {
   "cell_type": "code",
   "execution_count": 57,
   "id": "8a032108",
   "metadata": {},
   "outputs": [
    {
     "name": "stderr",
     "output_type": "stream",
     "text": [
      "100%|██████████| 6/6 [00:00<00:00, 1032.74it/s]\n"
     ]
    }
   ],
   "source": [
    "for text, annot in tqdm(train_data['annotations']): \n",
    "    doc = nlp.make_doc(text) \n",
    "    ents = []\n",
    "    for start, end, label in annot[\"entities\"]:\n",
    "        span = doc.char_span(start, end, label=label, alignment_mode=\"contract\")\n",
    "        if span is None:\n",
    "            print(\"Skipping entity\")\n",
    "        else:\n",
    "            ents.append(span)\n",
    "    doc.ents = ents \n",
    "    db.add(doc)\n",
    "\n",
    "db.to_disk(\"./training_data.spacy\") # save the docbin object"
   ]
  },
  {
   "cell_type": "code",
   "execution_count": 58,
   "id": "9d27eb21",
   "metadata": {},
   "outputs": [
    {
     "name": "stdout",
     "output_type": "stream",
     "text": [
      "[!] To generate a more effective transformer-based config (GPU-only), install\n",
      "the spacy-transformers package and re-run this command. The config generated now\n",
      "does not use transformers.\n",
      "[i] Generated config template specific for your use case\n",
      "- Language: en\n",
      "- Pipeline: ner\n",
      "- Optimize for: efficiency\n",
      "- Hardware: CPU\n",
      "- Transformer: None\n",
      "[+] Auto-filled config with all values\n",
      "[+] Saved config\n",
      "config.cfg\n",
      "You can now add your data and train your pipeline:\n",
      "python -m spacy train config.cfg --paths.train ./train.spacy --paths.dev ./dev.spacy\n"
     ]
    }
   ],
   "source": [
    "\n",
    "! python -m spacy init config config.cfg --lang en --pipeline ner --optimize efficiency"
   ]
  },
  {
   "cell_type": "code",
   "execution_count": 59,
   "id": "28a9e1d2",
   "metadata": {},
   "outputs": [
    {
     "name": "stdout",
     "output_type": "stream",
     "text": [
      "[i] Saving to output directory: .\n",
      "[i] Using CPU\n",
      "\u001b[1m\n",
      "=========================== Initializing pipeline ===========================\u001b[0m\n",
      "[+] Initialized pipeline\n",
      "\u001b[1m\n",
      "============================= Training pipeline =============================\u001b[0m\n",
      "[i] Pipeline: ['tok2vec', 'ner']\n",
      "[i] Initial learn rate: 0.001\n",
      "E    #       LOSS TOK2VEC  LOSS NER  ENTS_F  ENTS_P  ENTS_R  SCORE \n",
      "---  ------  ------------  --------  ------  ------  ------  ------\n",
      "  0       0          0.00     31.61    0.00    0.00    0.00    0.00\n",
      " 33     200        314.95   1157.86  100.00  100.00  100.00    1.00\n",
      " 82     400          0.00      0.00  100.00  100.00  100.00    1.00\n",
      "146     600          0.00      0.00  100.00  100.00  100.00    1.00\n",
      "225     800          0.00      0.00  100.00  100.00  100.00    1.00\n",
      "325    1000          0.00      0.00  100.00  100.00  100.00    1.00\n",
      "425    1200          0.00      0.00  100.00  100.00  100.00    1.00\n",
      "584    1400          0.00      0.00  100.00  100.00  100.00    1.00\n",
      "784    1600          0.00      0.00  100.00  100.00  100.00    1.00\n",
      "984    1800          0.00      0.00  100.00  100.00  100.00    1.00\n",
      "[+] Saved pipeline to output directory\n",
      "model-last\n"
     ]
    },
    {
     "name": "stderr",
     "output_type": "stream",
     "text": [
      "[2023-10-14 13:33:39,537] [INFO] Set up nlp object from config\n",
      "[2023-10-14 13:33:39,552] [INFO] Pipeline: ['tok2vec', 'ner']\n",
      "[2023-10-14 13:33:39,557] [INFO] Created vocabulary\n",
      "[2023-10-14 13:33:39,557] [INFO] Finished initializing nlp object\n",
      "[2023-10-14 13:33:39,730] [INFO] Initialized pipeline components: ['tok2vec', 'ner']\n"
     ]
    }
   ],
   "source": [
    "! python -m spacy train config.cfg --output ./ --paths.train ./training_data.spacy --paths.dev ./training_data.spacy\n"
   ]
  },
  {
   "cell_type": "markdown",
   "id": "f72f2dde",
   "metadata": {},
   "source": [
    "## model testing"
   ]
  },
  {
   "cell_type": "code",
   "execution_count": 1,
   "id": "48a60634",
   "metadata": {},
   "outputs": [],
   "source": [
    "#lib import\n",
    "import spacy\n",
    "\n",
    "#func\n",
    "#categorize into keyword buckets\n",
    "def buckets(prompt):\n",
    "    \n",
    "    prac_a = []\n",
    "    expert = []\n",
    "    lang = []\n",
    "    locat = []\n",
    "    \n",
    "    for ent in prompt.ents:\n",
    "    #print(ent.text,\":\",ent.label_)\n",
    "        if ent.label_ == 'PRACTICE_AREA': prac_a.append(ent.text)\n",
    "        elif ent.label_ == 'EXPERTISE': expert.append(ent.text)\n",
    "        elif ent.label_ == 'LANG': lang.append(ent.text)\n",
    "        elif ent.label_ == 'LOCATION': locat.append(ent.text)\n",
    "    \n",
    "    return prac_a, expert, lang, locat"
   ]
  },
  {
   "cell_type": "code",
   "execution_count": 2,
   "id": "289b1e72",
   "metadata": {},
   "outputs": [],
   "source": [
    "#load model\n",
    "nlp_ner = spacy.load(\"model-best\") "
   ]
  },
  {
   "cell_type": "code",
   "execution_count": 7,
   "id": "3f78162a",
   "metadata": {},
   "outputs": [],
   "source": [
    "long_prompt = nlp_ner(\"\"\"Our legal team, specializing in corporate law, is currently managing a complex business acquisition case in Washington. We require comprehensive legal resources and expertise in mergers and acquisitions, with a specific focus on due diligence and contract negotiations. Fluency in Spanish within the legal team is crucial for effective communication with our diverse international stakeholders. Our legal office, strategically located in the heart of Washington, allows us to stay updated with the latest legislative changes and business regulations.\n",
    "\n",
    "In addition to our involvement in corporate law, we have recently taken on a significant construction dispute case in Boston. We are seeking expert guidance in construction law and arbitration procedures to resolve the ongoing disputes over contractual obligations and project timelines. Proficiency in Mandarin within the legal team is essential as we are working closely with several Chinese construction firms involved in the dispute. Our extensive experience in handling complex construction cases has enabled us to provide effective legal strategies and negotiation tactics to ensure swift resolutions.\n",
    "\n",
    "Furthermore, our firm has been dedicated to providing comprehensive legal services in intellectual property law in San Francisco for over two decades. We specialize in patent registrations, trademark infringements, and copyright litigations, catering to a diverse clientele ranging from tech startups to established multinational corporations. With our multilingual legal team proficient in German, Japanese, and French, we have successfully represented our clients in numerous high-profile IP cases both domestically and internationally.\n",
    "\n",
    "As part of our commitment to serving our clients' needs, we have expanded our practice to include healthcare law and regulatory compliance in New York. Our legal experts are well-versed in healthcare regulations, compliance standards, and litigation procedures, providing strategic counsel to healthcare providers, institutions, and pharmaceutical companies. Fluency in Arabic within our legal team has enabled us to effectively communicate with our Middle Eastern clients and navigate the complexities of healthcare regulations in the international market.\n",
    "\n",
    "Our firm's diverse expertise extends to environmental law, with a particular focus on sustainability and green initiatives in Los Angeles. We have successfully represented clients in cases involving environmental compliance, renewable energy projects, and land development regulations. Our proficiency in Korean and Chinese languages has facilitated our engagement with international stakeholders seeking our legal guidance on various environmental initiatives and projects.\n",
    "\n",
    "With our dedication to providing top-tier legal services across diverse practice areas and our multilingual capabilities, we remain committed to serving our clients with the highest standards of professionalism and expertise.\"\"\")\n"
   ]
  },
  {
   "cell_type": "code",
   "execution_count": 8,
   "id": "9ae5c62f",
   "metadata": {
    "scrolled": true
   },
   "outputs": [
    {
     "name": "stdout",
     "output_type": "stream",
     "text": [
      "Practice Areas:  ['corporate law', 'mergers and', 'corporate law', 'construction law', 'intellectual property', 'patent registrations', 'environmental law', 'Korean', 'languages has']\n",
      "Expertise:  ['business acquisition', 'acquisitions, with', 'diligence and contract', 'business regulations.', 'project timelines.', 'the dispute.', 'numerous high', 'internationally.', 'well-versed', 'healthcare regulations', 'litigation procedures,', 'cases involving', 'compliance,', 'development regulations.', 'projects.']\n",
      "Language:  ['Washington.', 'Spanish', 'Mandarin', 'German', 'Japanese', 'French', 'Arabic', 'Middle Eastern clients', 'Chinese']\n",
      "Location:  ['Boston.', 'San Francisco', 'New York', 'Los Angeles']\n"
     ]
    }
   ],
   "source": [
    "#print out results\n",
    "\n",
    "p,e,la,lo = buckets(long_prompt)\n",
    "\n",
    "print('Practice Areas: ', p)\n",
    "print('Expertise: ', e)\n",
    "print('Language: ', la)\n",
    "print('Location: ', lo)\n"
   ]
  },
  {
   "cell_type": "code",
   "execution_count": null,
   "id": "2788bbb7",
   "metadata": {},
   "outputs": [],
   "source": [
    "spacy.displacy.render(long_prompt, style=\"ent\", jupyter=True)"
   ]
  },
  {
   "cell_type": "markdown",
   "id": "982f95b7",
   "metadata": {},
   "source": [
    "#### Test 2"
   ]
  },
  {
   "cell_type": "code",
   "execution_count": 3,
   "id": "0325af36",
   "metadata": {},
   "outputs": [],
   "source": [
    "long_prompt_2 = nlp_ner(\"\"\"Our legal team, specializing in civil law, is currently handling a high-profile lawsuit in Houston. We require comprehensive legal resources and expertise in civil litigation, with a specific focus on dispute resolution and trial preparation. Fluency in French within the legal team is crucial for effective communication with our French-speaking clients. Our office, strategically located in the bustling city of Houston, allows us to provide timely and effective legal representation to our clients.\n",
    "\n",
    "In addition to our involvement in civil law, we have recently taken on a complex administrative case in San Diego. We are seeking expert guidance in administrative law and regulatory compliance to navigate the intricate regulatory landscape and ensure our clients' interests are protected. Proficiency in Russian within the legal team is essential as we are representing several international clients facing administrative challenges. Our extensive experience in handling administrative cases has equipped us with the necessary skills to advocate for our clients effectively.\n",
    "\n",
    "Furthermore, our firm has a strong emphasis on competition law and antitrust regulations in Miami. We specialize in providing legal counsel to businesses and corporations, ensuring compliance with competition laws and regulations, and representing clients in cases involving antitrust violations and unfair business practices. With our multilingual legal team proficient in Chinese, Spanish, and Portuguese, we have successfully represented clients in complex antitrust cases both domestically and internationally.\n",
    "\n",
    "As part of our commitment to serving our clients' diverse needs, we have expanded our practice to include education law and policy advocacy in Philadelphia. Our legal experts are well-versed in education regulations, policy frameworks, and student rights, providing strategic counsel to educational institutions, students, and parents. Fluency in Arabic within our legal team has enabled us to effectively communicate with our Arabic-speaking clients and advocate for their educational rights in the region.\n",
    "\n",
    "Our firm's diverse expertise also extends to the field of health insurance law, with a particular focus on ensuring fair and just insurance coverage for our clients in Dallas. We have successfully represented numerous clients in cases involving insurance disputes, coverage denials, and bad faith insurance practices. Our proficiency in Japanese and Korean languages has facilitated our communication with international clients seeking our legal guidance on various health insurance matters.\n",
    "\n",
    "With our commitment to excellence and our multilingual capabilities, we are dedicated to providing top-tier legal services across diverse practice areas and ensuring the protection of our clients' rights and interests.\"\"\")\n"
   ]
  },
  {
   "cell_type": "code",
   "execution_count": 4,
   "id": "6293553d",
   "metadata": {},
   "outputs": [
    {
     "name": "stdout",
     "output_type": "stream",
     "text": [
      "Practice Areas:  ['civil law', 'civil law', 'interests are', 'laws and']\n",
      "Expertise:  ['civil litigation', 'ensure our clients', 'handling administrative', 'corporations, ensuring', 'regulations,', 'cases involving', 'business practices.', 'complex antitrust', 'internationally.', 'well-versed', 'education regulations', 'the region.', 'cases involving', 'disputes, coverage', 'rights and interests']\n",
      "Language:  ['French', 'French-speaking', 'the bustling', 'Houston', 'Russian', 'Chinese', 'Spanish', 'Portuguese', 'Arabic', 'Arabic-speaking', 'Japanese', 'Korean languages']\n",
      "Location:  ['Houston.', 'San Diego', 'Miami.', 'Philadelphia.', 'Dallas.']\n"
     ]
    }
   ],
   "source": [
    "#categorize for export\n",
    "p,e,la,lo = buckets(long_prompt_2)\n",
    "\n",
    "print('Practice Areas: ', p)\n",
    "print('Expertise: ', e)\n",
    "print('Language: ', la)\n",
    "print('Location: ', lo)\n"
   ]
  },
  {
   "cell_type": "code",
   "execution_count": 14,
   "id": "6fe46aea",
   "metadata": {},
   "outputs": [],
   "source": [
    "#highlight in text\n",
    "spacy.displacy.render(long_prompt_2, style=\"ent\", jupyter=True)"
   ]
  },
  {
   "cell_type": "markdown",
   "id": "2143ade4",
   "metadata": {},
   "source": [
    "#### Test 3\n"
   ]
  },
  {
   "cell_type": "code",
   "execution_count": 15,
   "id": "2e65468b",
   "metadata": {},
   "outputs": [],
   "source": [
    "lp3 = nlp_ner(\"\"\"Our legal team, specializing in dispute resolution, is currently handling a complex case in Milwaukee. We require comprehensive legal resources and expertise in alternative dispute resolution methods and negotiation tactics. Fluency in Korean within the legal team is crucial for effective communication with our Korean-speaking clients. Our office, strategically located in the heart of Milwaukee, allows us to provide timely and effective legal representation to our clients.\n",
    "\n",
    "In addition to our involvement in dispute resolution, we have recently taken on a sensitive commercial case in Palo Alto. We are seeking expert guidance in commercial law and contract disputes to ensure fair and just business transactions and agreements. Proficiency in Malay within the legal team is essential as we are representing several international companies facing commercial challenges. Our extensive experience in handling commercial cases has equipped us with the necessary skills to negotiate on behalf of our clients effectively.\n",
    "\n",
    "Furthermore, our firm has a strong emphasis on environmental law and sustainability initiatives in Dallas. We specialize in providing legal counsel to businesses and organizations seeking to comply with environmental regulations and promote green practices. With our multilingual legal team proficient in Arabic, Spanish, and Portuguese, we have successfully guided clients through various environmental initiatives and provided effective solutions to promote sustainable practices.\n",
    "\n",
    "As part of our commitment to serving our clients' diverse needs, we have expanded our practice to include insurance law and policy advocacy in Cleveland. Our legal experts are well-versed in insurance regulations, policy frameworks, and claim settlements, providing strategic counsel to policyholders and insurance companies. Fluency in Hindi within our legal team has enabled us to effectively communicate with our Hindi-speaking clients and advocate for their insurance rights in the region.\n",
    "\n",
    "Our firm's diverse expertise also extends to the field of criminal law, with a particular focus on defending clients in Los Angeles. We have successfully represented numerous clients in cases involving criminal defense, plea negotiations, and trial representation. Our proficiency in Russian and Chinese languages has facilitated our communication with international clients seeking our legal guidance on various criminal law matters.\n",
    "\n",
    "With our commitment to excellence and our multilingual capabilities, we are dedicated to providing top-tier legal services across diverse practice areas and ensuring the protection of our clients' rights and interests.\"\"\")"
   ]
  },
  {
   "cell_type": "code",
   "execution_count": 16,
   "id": "33b33aed",
   "metadata": {},
   "outputs": [
    {
     "name": "stdout",
     "output_type": "stream",
     "text": [
      "Practice Areas:  ['commercial law', 'environmental law', 'regulations and', 'languages has']\n",
      "Expertise:  ['dispute resolution', 'alternative dispute', 'negotiation tactics.', 'dispute resolution', 'business transactions', 'handling commercial', 'well-versed', 'insurance regulations', 'insurance companies.', 'the region.', 'cases involving', 'rights and interests']\n",
      "Language:  ['Korean', 'Korean-speaking', 'Malay', 'Arabic', 'Spanish', 'Portuguese', 'Hindi', 'Hindi-speaking', 'Russian', 'Chinese']\n",
      "Location:  ['Milwaukee.', 'Palo Alto', 'Dallas.', 'Cleveland.', 'Los Angeles']\n"
     ]
    }
   ],
   "source": [
    "#categorize for export\n",
    "p,e,la,lo = buckets(lp3)\n",
    "\n",
    "print('Practice Areas: ', p)\n",
    "print('Expertise: ', e)\n",
    "print('Language: ', la)\n",
    "print('Location: ', lo)"
   ]
  },
  {
   "cell_type": "code",
   "execution_count": 17,
   "id": "945baf98",
   "metadata": {},
   "outputs": [
    {
     "data": {
      "text/html": [
       "<span class=\"tex2jax_ignore\"><div class=\"entities\" style=\"line-height: 2.5; direction: ltr\">Our legal team, specializing in \n",
       "<mark class=\"entity\" style=\"background: #ddd; padding: 0.45em 0.6em; margin: 0 0.25em; line-height: 1; border-radius: 0.35em;\">\n",
       "    dispute resolution\n",
       "    <span style=\"font-size: 0.8em; font-weight: bold; line-height: 1; border-radius: 0.35em; vertical-align: middle; margin-left: 0.5rem\">EXPERTISE</span>\n",
       "</mark>\n",
       ", is currently handling a complex case in \n",
       "<mark class=\"entity\" style=\"background: #ddd; padding: 0.45em 0.6em; margin: 0 0.25em; line-height: 1; border-radius: 0.35em;\">\n",
       "    Milwaukee.\n",
       "    <span style=\"font-size: 0.8em; font-weight: bold; line-height: 1; border-radius: 0.35em; vertical-align: middle; margin-left: 0.5rem\">LOCATION</span>\n",
       "</mark>\n",
       " We require comprehensive legal resources and expertise in \n",
       "<mark class=\"entity\" style=\"background: #ddd; padding: 0.45em 0.6em; margin: 0 0.25em; line-height: 1; border-radius: 0.35em;\">\n",
       "    alternative dispute\n",
       "    <span style=\"font-size: 0.8em; font-weight: bold; line-height: 1; border-radius: 0.35em; vertical-align: middle; margin-left: 0.5rem\">EXPERTISE</span>\n",
       "</mark>\n",
       " resolution methods and \n",
       "<mark class=\"entity\" style=\"background: #ddd; padding: 0.45em 0.6em; margin: 0 0.25em; line-height: 1; border-radius: 0.35em;\">\n",
       "    negotiation tactics.\n",
       "    <span style=\"font-size: 0.8em; font-weight: bold; line-height: 1; border-radius: 0.35em; vertical-align: middle; margin-left: 0.5rem\">EXPERTISE</span>\n",
       "</mark>\n",
       " Fluency in \n",
       "<mark class=\"entity\" style=\"background: #ddd; padding: 0.45em 0.6em; margin: 0 0.25em; line-height: 1; border-radius: 0.35em;\">\n",
       "    Korean\n",
       "    <span style=\"font-size: 0.8em; font-weight: bold; line-height: 1; border-radius: 0.35em; vertical-align: middle; margin-left: 0.5rem\">LANG</span>\n",
       "</mark>\n",
       " within the legal team is crucial for effective communication with our \n",
       "<mark class=\"entity\" style=\"background: #ddd; padding: 0.45em 0.6em; margin: 0 0.25em; line-height: 1; border-radius: 0.35em;\">\n",
       "    Korean-speaking\n",
       "    <span style=\"font-size: 0.8em; font-weight: bold; line-height: 1; border-radius: 0.35em; vertical-align: middle; margin-left: 0.5rem\">LANG</span>\n",
       "</mark>\n",
       " clients. Our office, strategically located in the heart of Milwaukee, allows us to provide timely and effective legal representation to our clients.</br></br>In addition to our involvement in \n",
       "<mark class=\"entity\" style=\"background: #ddd; padding: 0.45em 0.6em; margin: 0 0.25em; line-height: 1; border-radius: 0.35em;\">\n",
       "    dispute resolution\n",
       "    <span style=\"font-size: 0.8em; font-weight: bold; line-height: 1; border-radius: 0.35em; vertical-align: middle; margin-left: 0.5rem\">EXPERTISE</span>\n",
       "</mark>\n",
       ", we have recently taken on a sensitive commercial case in \n",
       "<mark class=\"entity\" style=\"background: #ddd; padding: 0.45em 0.6em; margin: 0 0.25em; line-height: 1; border-radius: 0.35em;\">\n",
       "    Palo Alto\n",
       "    <span style=\"font-size: 0.8em; font-weight: bold; line-height: 1; border-radius: 0.35em; vertical-align: middle; margin-left: 0.5rem\">LOCATION</span>\n",
       "</mark>\n",
       ". We are seeking expert guidance in \n",
       "<mark class=\"entity\" style=\"background: #ddd; padding: 0.45em 0.6em; margin: 0 0.25em; line-height: 1; border-radius: 0.35em;\">\n",
       "    commercial law\n",
       "    <span style=\"font-size: 0.8em; font-weight: bold; line-height: 1; border-radius: 0.35em; vertical-align: middle; margin-left: 0.5rem\">PRACTICE_AREA</span>\n",
       "</mark>\n",
       " and contract disputes to ensure fair and just \n",
       "<mark class=\"entity\" style=\"background: #ddd; padding: 0.45em 0.6em; margin: 0 0.25em; line-height: 1; border-radius: 0.35em;\">\n",
       "    business transactions\n",
       "    <span style=\"font-size: 0.8em; font-weight: bold; line-height: 1; border-radius: 0.35em; vertical-align: middle; margin-left: 0.5rem\">EXPERTISE</span>\n",
       "</mark>\n",
       " and agreements. Proficiency in \n",
       "<mark class=\"entity\" style=\"background: #ddd; padding: 0.45em 0.6em; margin: 0 0.25em; line-height: 1; border-radius: 0.35em;\">\n",
       "    Malay\n",
       "    <span style=\"font-size: 0.8em; font-weight: bold; line-height: 1; border-radius: 0.35em; vertical-align: middle; margin-left: 0.5rem\">LANG</span>\n",
       "</mark>\n",
       " within the legal team is essential as we are representing several international companies facing commercial challenges. Our extensive experience in \n",
       "<mark class=\"entity\" style=\"background: #ddd; padding: 0.45em 0.6em; margin: 0 0.25em; line-height: 1; border-radius: 0.35em;\">\n",
       "    handling commercial\n",
       "    <span style=\"font-size: 0.8em; font-weight: bold; line-height: 1; border-radius: 0.35em; vertical-align: middle; margin-left: 0.5rem\">EXPERTISE</span>\n",
       "</mark>\n",
       " cases has equipped us with the necessary skills to negotiate on behalf of our clients effectively.</br></br>Furthermore, our firm has a strong emphasis on \n",
       "<mark class=\"entity\" style=\"background: #ddd; padding: 0.45em 0.6em; margin: 0 0.25em; line-height: 1; border-radius: 0.35em;\">\n",
       "    environmental law\n",
       "    <span style=\"font-size: 0.8em; font-weight: bold; line-height: 1; border-radius: 0.35em; vertical-align: middle; margin-left: 0.5rem\">PRACTICE_AREA</span>\n",
       "</mark>\n",
       " and sustainability initiatives in \n",
       "<mark class=\"entity\" style=\"background: #ddd; padding: 0.45em 0.6em; margin: 0 0.25em; line-height: 1; border-radius: 0.35em;\">\n",
       "    Dallas.\n",
       "    <span style=\"font-size: 0.8em; font-weight: bold; line-height: 1; border-radius: 0.35em; vertical-align: middle; margin-left: 0.5rem\">LOCATION</span>\n",
       "</mark>\n",
       " We specialize in providing legal counsel to businesses and organizations seeking to comply with environmental \n",
       "<mark class=\"entity\" style=\"background: #ddd; padding: 0.45em 0.6em; margin: 0 0.25em; line-height: 1; border-radius: 0.35em;\">\n",
       "    regulations and\n",
       "    <span style=\"font-size: 0.8em; font-weight: bold; line-height: 1; border-radius: 0.35em; vertical-align: middle; margin-left: 0.5rem\">PRACTICE_AREA</span>\n",
       "</mark>\n",
       " promote green practices. With our multilingual legal team proficient in \n",
       "<mark class=\"entity\" style=\"background: #ddd; padding: 0.45em 0.6em; margin: 0 0.25em; line-height: 1; border-radius: 0.35em;\">\n",
       "    Arabic\n",
       "    <span style=\"font-size: 0.8em; font-weight: bold; line-height: 1; border-radius: 0.35em; vertical-align: middle; margin-left: 0.5rem\">LANG</span>\n",
       "</mark>\n",
       ", \n",
       "<mark class=\"entity\" style=\"background: #ddd; padding: 0.45em 0.6em; margin: 0 0.25em; line-height: 1; border-radius: 0.35em;\">\n",
       "    Spanish\n",
       "    <span style=\"font-size: 0.8em; font-weight: bold; line-height: 1; border-radius: 0.35em; vertical-align: middle; margin-left: 0.5rem\">LANG</span>\n",
       "</mark>\n",
       ", and \n",
       "<mark class=\"entity\" style=\"background: #ddd; padding: 0.45em 0.6em; margin: 0 0.25em; line-height: 1; border-radius: 0.35em;\">\n",
       "    Portuguese\n",
       "    <span style=\"font-size: 0.8em; font-weight: bold; line-height: 1; border-radius: 0.35em; vertical-align: middle; margin-left: 0.5rem\">LANG</span>\n",
       "</mark>\n",
       ", we have successfully guided clients through various environmental initiatives and provided effective solutions to promote sustainable practices.</br></br>As part of our commitment to serving our clients' diverse needs, we have expanded our practice to include insurance law and policy advocacy in \n",
       "<mark class=\"entity\" style=\"background: #ddd; padding: 0.45em 0.6em; margin: 0 0.25em; line-height: 1; border-radius: 0.35em;\">\n",
       "    Cleveland.\n",
       "    <span style=\"font-size: 0.8em; font-weight: bold; line-height: 1; border-radius: 0.35em; vertical-align: middle; margin-left: 0.5rem\">LOCATION</span>\n",
       "</mark>\n",
       " Our legal experts are \n",
       "<mark class=\"entity\" style=\"background: #ddd; padding: 0.45em 0.6em; margin: 0 0.25em; line-height: 1; border-radius: 0.35em;\">\n",
       "    well-versed\n",
       "    <span style=\"font-size: 0.8em; font-weight: bold; line-height: 1; border-radius: 0.35em; vertical-align: middle; margin-left: 0.5rem\">EXPERTISE</span>\n",
       "</mark>\n",
       " in \n",
       "<mark class=\"entity\" style=\"background: #ddd; padding: 0.45em 0.6em; margin: 0 0.25em; line-height: 1; border-radius: 0.35em;\">\n",
       "    insurance regulations\n",
       "    <span style=\"font-size: 0.8em; font-weight: bold; line-height: 1; border-radius: 0.35em; vertical-align: middle; margin-left: 0.5rem\">EXPERTISE</span>\n",
       "</mark>\n",
       ", policy frameworks, and claim settlements, providing strategic counsel to policyholders and \n",
       "<mark class=\"entity\" style=\"background: #ddd; padding: 0.45em 0.6em; margin: 0 0.25em; line-height: 1; border-radius: 0.35em;\">\n",
       "    insurance companies.\n",
       "    <span style=\"font-size: 0.8em; font-weight: bold; line-height: 1; border-radius: 0.35em; vertical-align: middle; margin-left: 0.5rem\">EXPERTISE</span>\n",
       "</mark>\n",
       " Fluency in \n",
       "<mark class=\"entity\" style=\"background: #ddd; padding: 0.45em 0.6em; margin: 0 0.25em; line-height: 1; border-radius: 0.35em;\">\n",
       "    Hindi\n",
       "    <span style=\"font-size: 0.8em; font-weight: bold; line-height: 1; border-radius: 0.35em; vertical-align: middle; margin-left: 0.5rem\">LANG</span>\n",
       "</mark>\n",
       " within our legal team has enabled us to effectively communicate with our \n",
       "<mark class=\"entity\" style=\"background: #ddd; padding: 0.45em 0.6em; margin: 0 0.25em; line-height: 1; border-radius: 0.35em;\">\n",
       "    Hindi-speaking\n",
       "    <span style=\"font-size: 0.8em; font-weight: bold; line-height: 1; border-radius: 0.35em; vertical-align: middle; margin-left: 0.5rem\">LANG</span>\n",
       "</mark>\n",
       " clients and advocate for their insurance rights in \n",
       "<mark class=\"entity\" style=\"background: #ddd; padding: 0.45em 0.6em; margin: 0 0.25em; line-height: 1; border-radius: 0.35em;\">\n",
       "    the region.\n",
       "    <span style=\"font-size: 0.8em; font-weight: bold; line-height: 1; border-radius: 0.35em; vertical-align: middle; margin-left: 0.5rem\">EXPERTISE</span>\n",
       "</mark>\n",
       "</br></br>Our firm's diverse expertise also extends to the field of criminal law, with a particular focus on defending clients in \n",
       "<mark class=\"entity\" style=\"background: #ddd; padding: 0.45em 0.6em; margin: 0 0.25em; line-height: 1; border-radius: 0.35em;\">\n",
       "    Los Angeles\n",
       "    <span style=\"font-size: 0.8em; font-weight: bold; line-height: 1; border-radius: 0.35em; vertical-align: middle; margin-left: 0.5rem\">LOCATION</span>\n",
       "</mark>\n",
       ". We have successfully represented numerous clients in \n",
       "<mark class=\"entity\" style=\"background: #ddd; padding: 0.45em 0.6em; margin: 0 0.25em; line-height: 1; border-radius: 0.35em;\">\n",
       "    cases involving\n",
       "    <span style=\"font-size: 0.8em; font-weight: bold; line-height: 1; border-radius: 0.35em; vertical-align: middle; margin-left: 0.5rem\">EXPERTISE</span>\n",
       "</mark>\n",
       " criminal defense, plea negotiations, and trial representation. Our proficiency in \n",
       "<mark class=\"entity\" style=\"background: #ddd; padding: 0.45em 0.6em; margin: 0 0.25em; line-height: 1; border-radius: 0.35em;\">\n",
       "    Russian\n",
       "    <span style=\"font-size: 0.8em; font-weight: bold; line-height: 1; border-radius: 0.35em; vertical-align: middle; margin-left: 0.5rem\">LANG</span>\n",
       "</mark>\n",
       " and \n",
       "<mark class=\"entity\" style=\"background: #ddd; padding: 0.45em 0.6em; margin: 0 0.25em; line-height: 1; border-radius: 0.35em;\">\n",
       "    Chinese\n",
       "    <span style=\"font-size: 0.8em; font-weight: bold; line-height: 1; border-radius: 0.35em; vertical-align: middle; margin-left: 0.5rem\">LANG</span>\n",
       "</mark>\n",
       " \n",
       "<mark class=\"entity\" style=\"background: #ddd; padding: 0.45em 0.6em; margin: 0 0.25em; line-height: 1; border-radius: 0.35em;\">\n",
       "    languages has\n",
       "    <span style=\"font-size: 0.8em; font-weight: bold; line-height: 1; border-radius: 0.35em; vertical-align: middle; margin-left: 0.5rem\">PRACTICE_AREA</span>\n",
       "</mark>\n",
       " facilitated our communication with international clients seeking our legal guidance on various criminal law matters.</br></br>With our commitment to excellence and our multilingual capabilities, we are dedicated to providing top-tier legal services across diverse practice areas and ensuring the protection of our clients' \n",
       "<mark class=\"entity\" style=\"background: #ddd; padding: 0.45em 0.6em; margin: 0 0.25em; line-height: 1; border-radius: 0.35em;\">\n",
       "    rights and interests\n",
       "    <span style=\"font-size: 0.8em; font-weight: bold; line-height: 1; border-radius: 0.35em; vertical-align: middle; margin-left: 0.5rem\">EXPERTISE</span>\n",
       "</mark>\n",
       ".</div></span>"
      ],
      "text/plain": [
       "<IPython.core.display.HTML object>"
      ]
     },
     "metadata": {},
     "output_type": "display_data"
    }
   ],
   "source": [
    "#highlight in text\n",
    "spacy.displacy.render(lp3, style=\"ent\", jupyter=True)"
   ]
  },
  {
   "cell_type": "markdown",
   "id": "7a466528",
   "metadata": {},
   "source": [
    "### test with web scraped bio"
   ]
  },
  {
   "cell_type": "code",
   "execution_count": 3,
   "id": "81eb011c",
   "metadata": {},
   "outputs": [],
   "source": [
    "long_prompt = nlp_ner(\"\"\"Mike Abcarian is managing partner of the firm's Dallas office. For over 30 years he has represented Fortune 500 corporations, units of local government, and local business interests in labor and employment matters. He has handled hundreds of lawsuits in federal and state courts with an exceptional success record, including lead counsel defense of complex litigation and nationwide class actions. Many of Mike's successful cases resulted in defense verdicts for employer clients following trial by jury. Mike also handles complex workplace safety matters, including fatality investigations, and has represented employers in high-visibility proceedings before the Occupational Safety and Health Administration (OSHA). He has handled significant compensation compliance matters--some involving thousands of employees--in proceedings before the Wage & Hour Division of the U. S. Department of Labor (USDOL). Mike also appears frequently before the Equal Employment Opportunity Commission (EEOC) defending employers in discrimination matters.  He also represents employers before the National Labor Relations Board (NLRB) in union representation proceedings and unfair labor practice proceedings, and in arbitration of labor disputes and labor contract negotiations. Throughout his career, Mike has been a sought-after speaker and a prolific author on labor and employment law issues. He is \"AV\" Peer Review Rated by Martindale-Hubbell for preeminent skill and ethics, and he has been listed in Texas Super Lawyers every year since 2004. Mike has also been listed in Best Lawyers in America since 2012 and was listed in Chambers USA since 2016. In 2018, Mike was inducted as a Fellow into The College of Labor and Employment Lawyers. Election as a Fellow is the highest recognition by an attorney's colleagues of sustained outstanding performance in the profession, exemplifying integrity, dedication and excellence. \"\"\")\n"
   ]
  },
  {
   "cell_type": "code",
   "execution_count": 4,
   "id": "dfe895ae",
   "metadata": {},
   "outputs": [
    {
     "name": "stdout",
     "output_type": "stream",
     "text": [
      "Practice Areas:  ['labor and', 'employment matters.', 'federal and', 'litigation and', 'employees--', 'Labor (', 'labor disputes and', 'labor contract negotiations', 'labor and', 'employment law', 'Best Lawyers', 'Employment']\n",
      "Expertise:  ['corporations,', 'defense verdicts', 'high-', 'proceedings before', 'discrimination matters.', 'union representation', 'arbitration of', 'ethics,', 'The College of Labor', 'the profession', 'excellence.']\n",
      "Language:  ['Mike Abcarian is', 'Dallas office', 'Safety', 'Health Administration (', 'Commission', 'National Labor Relations Board (', 'Review Rated by', 'Martindale-Hubbell for', 'America', '2018']\n",
      "Location:  ['Employment Opportunity', 'Texas Super', 'Chambers USA', 'Lawyers.']\n"
     ]
    }
   ],
   "source": [
    "#print out results\n",
    "\n",
    "p,e,la,lo = buckets(long_prompt)\n",
    "\n",
    "print('Practice Areas: ', p)\n",
    "print('Expertise: ', e)\n",
    "print('Language: ', la)\n",
    "print('Location: ', lo)\n"
   ]
  },
  {
   "cell_type": "code",
   "execution_count": 5,
   "id": "b8309134",
   "metadata": {},
   "outputs": [
    {
     "name": "stdout",
     "output_type": "stream",
     "text": [
      "bad recognition.  Train data with more bio data\n"
     ]
    }
   ],
   "source": [
    "print('bad recognition.  Train data with more bio data')"
   ]
  },
  {
   "cell_type": "code",
   "execution_count": null,
   "id": "c4b6a956",
   "metadata": {},
   "outputs": [],
   "source": []
  }
 ],
 "metadata": {
  "kernelspec": {
   "display_name": "Python 3 (ipykernel)",
   "language": "python",
   "name": "python3"
  },
  "language_info": {
   "codemirror_mode": {
    "name": "ipython",
    "version": 3
   },
   "file_extension": ".py",
   "mimetype": "text/x-python",
   "name": "python",
   "nbconvert_exporter": "python",
   "pygments_lexer": "ipython3",
   "version": "3.11.3"
  }
 },
 "nbformat": 4,
 "nbformat_minor": 5
}
